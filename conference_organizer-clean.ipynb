{
 "cells": [
  {
   "cell_type": "markdown",
   "metadata": {
    "id": "jxjdJzd5uQ1c"
   },
   "source": [
    "Simply put, your main objective for this coding challenge is to send an API request to a server, get the data, then build a solution after getting the data."
   ]
  },
  {
   "cell_type": "markdown",
   "metadata": {
    "id": "aqQVV5weuQ1i"
   },
   "source": [
    "Here's the server address: https://ct-mock-tech-assessment.herokuapp.com/<br>"
   ]
  },
  {
   "cell_type": "markdown",
   "metadata": {
    "id": "4itWjMYFuQ1l"
   },
   "source": [
    "The data is a collection of partners who need to attend meetings within their respective countries. For each partner you will find first and last names, email addresses, country locations and dates of availability."
   ]
  },
  {
   "cell_type": "markdown",
   "metadata": {
    "id": "xt5DsSDBuQ1m"
   },
   "source": [
    "Your job is to  build an invitation list based on the data. An example solution would look like the following. Keep in mind this is an example and not the real solution."
   ]
  },
  {
   "cell_type": "markdown",
   "metadata": {
    "id": "H9hY3aKQuQ1m"
   },
   "source": [
    "<strong>THE FOLLOWING IS `ONLY` AN EXAMPLE.</strong>"
   ]
  },
  {
   "cell_type": "code",
   "execution_count": null,
   "metadata": {
    "id": "F5if2DavuQ1n"
   },
   "outputs": [],
   "source": [
    "# [   {   'attendeeCount': 12,\n",
    "#         'attendees': [   'rketring@codingtemple.com',\n",
    "#                          'mlacau@codingtemple.com',\n",
    "#                          'eomersa@codingtemple.com',\n",
    "#                          'ssheahan@codingtemple.com',\n",
    "#                          'msoult@codingtemple.com',\n",
    "#                          'bwatton@codingtemple.com',\n",
    "#                          'afernadez@codingtemple.com',\n",
    "#                          'mmottern@codingtemple.com',\n",
    "#                          'pdougherty@codingtemple.com',\n",
    "#                          'sbeemon@codingtemple.com',\n",
    "#                          'mvirgel@codingtemple.com',\n",
    "#                          'hpolitte@codingtemple.com'],\n",
    "#         'name': 'United States',\n",
    "#         'startDate': '2017-06-01'},\n",
    "#     {   'attendeeCount': 12,\n",
    "#         'attendees': [   'sterrence@codingtemple.com',\n",
    "#                          'dpatnode@codingtemple.com',\n",
    "#                          'pbertog@codingtemple.com',\n",
    "#                          'rguldemond@codingtemple.com',\n",
    "#                          'rfarlee@codingtemple.com',\n",
    "#                          'mclawson@codingtemple.com',\n",
    "#                          'mbottenfield@codingtemple.com',\n",
    "#                          'akulju@codingtemple.com',\n",
    "#                          'cscoby@codingtemple.com',\n",
    "#                          'dsiebenthal@codingtemple.com',\n",
    "#                          'mcrossen@codingtemple.com',\n",
    "#                          'mkimble@codingtemple.com'],\n",
    "#         'name': 'Ireland',\n",
    "#         'startDate': '2017-06-04'},\n",
    "#     {   'attendeeCount': 14,\n",
    "#         'attendees': [   'oduttinger@codingtemple.com',\n",
    "#                          'tzavesky@codingtemple.com',\n",
    "#                          'alyme@codingtemple.com',\n",
    "#                          'aferkovich@codingtemple.com',\n",
    "#                          'cbrookhouse@codingtemple.com',\n",
    "#                          'mselk@codingtemple.com',\n",
    "#                          'amacneil@codingtemple.com',\n",
    "#                          'jplants@codingtemple.com',\n",
    "#                          'devora@codingtemple.com',\n",
    "#                          'bcustis@codingtemple.com',\n",
    "#                          'labbot@codingtemple.com',\n",
    "#                          'civery@codingtemple.com',\n",
    "#                          'jfavieri@codingtemple.com',\n",
    "#                          'anickless@codingtemple.com'],\n",
    "#         'name': 'Spain',\n",
    "#         'startDate': '2017-05-03'},\n",
    "#     {   'attendeeCount': 3,\n",
    "#         'attendees': [   'ltoepperwein@codingtemple.com',\n",
    "#                          'olavine@codingtemple.com',\n",
    "#                          'ksinitiere@codingtemple.com'],\n",
    "#         'name': 'Mexico',\n",
    "#         'startDate': '2017-05-03'},\n",
    "#     {   'attendeeCount': 3,\n",
    "#         'attendees': [   'abending@codingtemple.com',\n",
    "#                          'agewant@codingtemple.com',\n",
    "#                          'mboyarski@codingtemple.com'],\n",
    "#         'name': 'Canada',\n",
    "#         'startDate': '2017-07-02'},\n",
    "#     {   'attendeeCount': None,\n",
    "#         'attendees': [],\n",
    "#         'name': 'Singapore',\n",
    "#         'startDate': '2017-06-15'},\n",
    "#     {   'attendeeCount': None,\n",
    "#         'attendees': [],\n",
    "#         'name': 'Japan',\n",
    "#         'startDate': '2017-06-27'},\n",
    "#     {   'attendeeCount': 16,\n",
    "#         'attendees': [   'arosentrater@codingtemple.com',\n",
    "#                          'jgoettsche@codingtemple.com',\n",
    "#                          'nbehal@codingtemple.com',\n",
    "#                          'bkilcher@codingtemple.com',\n",
    "#                          'ostutler@codingtemple.com',\n",
    "#                          'emaohu@codingtemple.com',\n",
    "#                          'jbattistoni@codingtemple.com',\n",
    "#                          'ccoryea@codingtemple.com',\n",
    "#                          'gcintron@codingtemple.com',\n",
    "#                          'scorlett@codingtemple.com',\n",
    "#                          'dallocca@codingtemple.com',\n",
    "#                          'dneedler@codingtemple.com',\n",
    "#                          'lsachez@codingtemple.com',\n",
    "#                          'sszabo@codingtemple.com',\n",
    "#                          'smaleck@codingtemple.com',\n",
    "#                          'jholtrop@codingtemple.com'],\n",
    "#         'name': 'United Kingdom',\n",
    "#         'startDate': '2017-06-05'},\n",
    "#     {   'attendeeCount': 5,\n",
    "#         'attendees': [   'bdurke@codingtemple.com',\n",
    "#                          'jtopp@codingtemple.com',\n",
    "#                          'tpinela@codingtemple.com',\n",
    "#                          'jdefore@codingtemple.com',\n",
    "#                          'jmacareno@codingtemple.com'],\n",
    "#         'name': 'France',\n",
    "#         'startDate': '2017-06-18'}]"
   ]
  },
  {
   "cell_type": "markdown",
   "metadata": {
    "id": "FDd9SsXkuQ1r"
   },
   "source": [
    "For each partner, you need to categorize them according to the country in which they must attend the meeting. Find a way to determine which availability dates work best for everyone in EACH country. If a date doesn't work for a specific partner, they simply will not be able to attend the meeting. \n",
    "\n",
    "<strong>The kicker</strong>: this meeting will last a total of two days. Because of this, you must find a RANGE of two dates that work best for everyone. For whichever two days work the best, only display the first date everyone can start.\n",
    "\n",
    "<strong>When you've finished, send a POST request to the same API (Google how to do this!!!). You MUST send the data back to the server in the form a DICTIONARY with a key of 'data'. Otherwise you will get an error. Once you make the request, look through some of the requests object's attributes to see if you get a server response code of 200. If you do, you were successful in building your solution. Otherwise, hit the drawing board and try again!</strong>"
   ]
  },
  {
   "cell_type": "code",
   "execution_count": null,
   "metadata": {
    "id": "G4Sd8QpZpUTw"
   },
   "outputs": [],
   "source": [
    "# For this technical interview, I was given 3 hours to complete it"
   ]
  },
  {
   "cell_type": "code",
   "execution_count": 4,
   "metadata": {
    "executionInfo": {
     "elapsed": 238,
     "status": "ok",
     "timestamp": 1644010917234,
     "user": {
      "displayName": "Lucas Lang",
      "photoUrl": "https://lh3.googleusercontent.com/a/default-user=s64",
      "userId": "05742899537944875866"
     },
     "user_tz": 360
    },
    "id": "s5JxqBzhq_fN"
   },
   "outputs": [],
   "source": [
    "data = {\n",
    "    \"United States\": [\n",
    "      {\n",
    "        \"availableDates\": [\n",
    "          \"2017-05-19\",\n",
    "          \"2017-05-20\",\n",
    "          \"2017-05-21\",\n",
    "          \"2017-05-26\",\n",
    "          \"2017-05-28\",\n",
    "          \"2017-05-29\",\n",
    "          \"2017-06-01\",\n",
    "          \"2017-06-02\",\n",
    "          \"2017-06-03\"\n",
    "        ],\n",
    "        \"country\": \"United States\",\n",
    "        \"email\": \"rketring@codingtemple.com\",\n",
    "        \"firstName\": \"Rebbeca\",\n",
    "        \"lastName\": \"Ketring\"\n",
    "      },\n",
    "      {\n",
    "        \"availableDates\": [\n",
    "          \"2017-05-19\",\n",
    "          \"2017-05-20\",\n",
    "          \"2017-05-21\",\n",
    "          \"2017-05-26\",\n",
    "          \"2017-05-28\",\n",
    "          \"2017-05-29\",\n",
    "          \"2017-06-01\",\n",
    "          \"2017-06-02\",\n",
    "          \"2017-06-03\"\n",
    "        ],\n",
    "        \"country\": \"United States\",\n",
    "        \"email\": \"ccafaro@codingtemple.com\",\n",
    "        \"firstName\": \"Casey\",\n",
    "        \"lastName\": \"Cafaro\"\n",
    "      }\n",
    "    ],\n",
    "    \"France\": [\n",
    "      {\n",
    "          \n",
    "      }\n",
    "    ],\n",
    "    \"Spain\": [],\n",
    "    \"Portugal\": [{}]\n",
    "}"
   ]
  },
  {
   "cell_type": "code",
   "execution_count": null,
   "metadata": {
    "id": "8OjtICpArNAG"
   },
   "outputs": [],
   "source": [
    "# Simply put, your main objective for this coding challenge is to send an API request to a server, get the data, \n",
    "# then build a solution after getting the data.\n",
    "\n",
    "# first and last names, email addresses, country locations and dates of availability."
   ]
  },
  {
   "cell_type": "code",
   "execution_count": 109,
   "metadata": {},
   "outputs": [
    {
     "name": "stdout",
     "output_type": "stream",
     "text": [
      "start date: 2017-05-28\n",
      "Rebbeca Ketring\n",
      "rketring@codingtemple.com\n",
      "Casey Cafaro\n",
      "ccafaro@codingtemple.com\n",
      "Merilyn Lacau\n",
      "mlacau@codingtemple.com\n",
      "Ester Omersa\n",
      "eomersa@codingtemple.com\n",
      "Shanna Sheahan\n",
      "ssheahan@codingtemple.com\n",
      "Melvin Soult\n",
      "msoult@codingtemple.com\n",
      "Bong Leeks\n",
      "bleeks@codingtemple.com\n",
      "Luna Solid\n",
      "lsolid@codingtemple.com\n",
      "Britt Watton\n",
      "bwatton@codingtemple.com\n",
      "Jeremiah Masher\n",
      "jmasher@codingtemple.com\n",
      "Aaron Fernadez\n",
      "afernadez@codingtemple.com\n",
      "Meta Mottern\n",
      "mmottern@codingtemple.com\n",
      "Phung Dougherty\n",
      "pdougherty@codingtemple.com\n",
      "Suzan Degunya\n",
      "sdegunya@codingtemple.com\n",
      "Shaunta Beemon\n",
      "sbeemon@codingtemple.com\n",
      "Maggie Virgel\n",
      "mvirgel@codingtemple.com\n",
      "country: United States\n"
     ]
    }
   ],
   "source": [
    "#Group work \n",
    "\n",
    "import requests\n",
    "import json\n",
    "    \n",
    "response = requests.get('https://ct-mock-tech-assessment.herokuapp.com/')\n",
    "res = response.json() # this is the response from the API formatted for python \n",
    "total_partners = len(res[\"partners\"])\n",
    "test = res[\"partners\"][0][\"country\"]\n",
    "\n",
    "i = 0\n",
    "\n",
    "us_list = []\n",
    "\n",
    "for i in range(total_partners):\n",
    "    if res[\"partners\"][i][\"country\"] == \"United States\":\n",
    "        new_partner = res[\"partners\"][i]\n",
    "        us_list.append(new_partner)\n",
    "        \n",
    "j = 0\n",
    "available_dates = []\n",
    "for j in range (len(us_list)-1):\n",
    "    dates = us_list[j][\"availableDates\"]\n",
    "    new_dates = []\n",
    "    for i in dates:\n",
    "        x = i.split(\"-\")\n",
    "        new_dates.append(x)\n",
    "    day = []\n",
    "    \n",
    "    for l in new_dates:\n",
    "        day1 = int(l[2])\n",
    "        day.append(day1)\n",
    "    for i in range(len(day)-1):  # not using -1 will cause index error\n",
    "        if day[i] + 1 == day[i + 1]:\n",
    "            if i == 0 or i - 1 >= 0:\n",
    "                available_dates.append(day[i])      \n",
    "\n",
    "def most_frequent(available_dates):\n",
    "    counter = 0\n",
    "    num = available_dates[0]\n",
    "     \n",
    "    for i in available_dates:\n",
    "        curr_frequency = available_dates.count(i)\n",
    "        if(curr_frequency> counter):\n",
    "            counter = curr_frequency\n",
    "            num = i\n",
    " \n",
    "    return num\n",
    "\n",
    "mostAvailable = most_frequent(available_dates)\n",
    "if mostAvailable > 10:\n",
    "    date1 = (\"2017-05-\" + str(mostAvailable))\n",
    "    date2 = (\"2017-05-\" + str(mostAvailable +1))\n",
    "print(f\"start date: {date1}\")\n",
    "\n",
    "    \n",
    "    \n",
    "k = 0\n",
    "for k in range(len(us_list)-1):\n",
    "    l = 0 \n",
    "    dates = us_list[k][\"availableDates\"]\n",
    "    # print(dates)\n",
    "    for l in range (len(dates)-1):\n",
    "        if dates [l] == date1 and dates[l+1] == date2:\n",
    "            print((us_list[k][\"firstName\"]), end = \" \")\n",
    "            print(us_list[k][\"lastName\"])\n",
    "            print(us_list[k][\"email\"])\n",
    "print(f\"country: United States\")"
   ]
  },
  {
   "cell_type": "code",
   "execution_count": 90,
   "metadata": {},
   "outputs": [
    {
     "data": {
      "text/plain": [
       "<Response [200]>"
      ]
     },
     "execution_count": 90,
     "metadata": {},
     "output_type": "execute_result"
    }
   ],
   "source": [
    "response"
   ]
  },
  {
   "cell_type": "code",
   "execution_count": 111,
   "metadata": {},
   "outputs": [
    {
     "name": "stdout",
     "output_type": "stream",
     "text": [
      "['2017-05-19', '2017-05-20', '2017-05-21', '2017-05-26', '2017-05-28', '2017-05-29', '2017-06-01', '2017-06-02', '2017-06-03']\n",
      "rketring@codingtemple.com\n",
      "Rebbeca\n",
      "Ketring\n"
     ]
    }
   ],
   "source": [
    "# My work \n",
    "\n",
    "\n",
    "response = requests.get('https://ct-mock-tech-assessment.herokuapp.com/').json()\n",
    "\n",
    "dates = response['partners'][0]['availableDates']\n",
    "email = response['partners'][0]['email']\n",
    "first_name = response['partners'][0]['firstName']\n",
    "last_name = response['partners'][0]['lastName']\n",
    "\n",
    "print(dates)\n",
    "print(email)\n",
    "print(first_name)\n",
    "print(last_name)\n",
    "\n"
   ]
  },
  {
   "cell_type": "code",
   "execution_count": null,
   "metadata": {},
   "outputs": [],
   "source": []
  }
 ],
 "metadata": {
  "colab": {
   "name": "conference_organizer-clean.ipynb",
   "provenance": []
  },
  "kernelspec": {
   "display_name": "Python 3 (ipykernel)",
   "language": "python",
   "name": "python3"
  },
  "language_info": {
   "codemirror_mode": {
    "name": "ipython",
    "version": 3
   },
   "file_extension": ".py",
   "mimetype": "text/x-python",
   "name": "python",
   "nbconvert_exporter": "python",
   "pygments_lexer": "ipython3",
   "version": "3.9.7"
  }
 },
 "nbformat": 4,
 "nbformat_minor": 1
}
